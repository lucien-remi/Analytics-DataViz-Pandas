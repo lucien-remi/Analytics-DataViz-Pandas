{
 "cells": [
  {
   "cell_type": "code",
   "execution_count": 533,
   "metadata": {
    "ExecuteTime": {
     "end_time": "2019-03-21T02:29:00.087310Z",
     "start_time": "2019-03-21T02:29:00.068810Z"
    },
    "code_folding": [
     0
    ],
    "slideshow": {
     "slide_type": "skip"
    }
   },
   "outputs": [],
   "source": [
    "# Import necessary libraries and set plotting parameters\n",
    "import pandas as pd\n",
    "import numpy as np\n",
    "import seaborn as sns\n",
    "import datetime\n",
    "import calendar\n",
    "from matplotlib import pyplot as plt\n",
    "%matplotlib inline\n",
    "plt.style.use('ggplot')\n",
    "plt.rcParams['axes.facecolor']='white'\n",
    "plt.rcParams[\"figure.dpi\"] = 125"
   ]
  },
  {
   "cell_type": "code",
   "execution_count": 534,
   "metadata": {
    "ExecuteTime": {
     "end_time": "2019-03-21T02:29:00.261932Z",
     "start_time": "2019-03-21T02:29:00.095724Z"
    },
    "code_folding": [
     0
    ]
   },
   "outputs": [],
   "source": [
    "# Import data and state tab from file\n",
    "data=pd.read_excel('~/Downloads/Analytics Core Competency - PM Data Analytics.xls',sheetname='Data')\n",
    "state=pd.read_excel('~/Downloads/Analytics Core Competency - PM Data Analytics.xls',sheetname='State')"
   ]
  },
  {
   "cell_type": "code",
   "execution_count": 535,
   "metadata": {
    "ExecuteTime": {
     "end_time": "2019-03-21T02:29:00.279778Z",
     "start_time": "2019-03-21T02:29:00.266549Z"
    },
    "code_folding": [
     0
    ]
   },
   "outputs": [
    {
     "data": {
      "text/plain": [
       "date_sign_up         datetime64[ns]\n",
       "customer_id                   int64\n",
       "product_name                 object\n",
       "marketing_channel            object\n",
       "City                         object\n",
       "dtype: object"
      ]
     },
     "execution_count": 535,
     "metadata": {},
     "output_type": "execute_result"
    }
   ],
   "source": [
    "# show data types of relevant columns\n",
    "data.dtypes"
   ]
  },
  {
   "attachments": {},
   "cell_type": "markdown",
   "metadata": {},
   "source": [
    "### 1. Which customer ID bought most food boxes, and what city were they from?\n",
    "\n",
    "#### Using groupby we can group the data set on customer_id to get the count of products for each customer and pull in the city associated with that customer"
   ]
  },
  {
   "cell_type": "code",
   "execution_count": 536,
   "metadata": {
    "ExecuteTime": {
     "end_time": "2019-03-21T02:29:00.428227Z",
     "start_time": "2019-03-21T02:29:00.283377Z"
    }
   },
   "outputs": [],
   "source": [
    "df=data.groupby(['customer_id'],as_index=False).agg({'product_name':'count','City':'max'})\n",
    "df.rename(columns={'product_name':'order_count'},inplace=True)"
   ]
  },
  {
   "cell_type": "code",
   "execution_count": 537,
   "metadata": {
    "ExecuteTime": {
     "end_time": "2019-03-21T02:29:00.476372Z",
     "start_time": "2019-03-21T02:29:00.435705Z"
    }
   },
   "outputs": [
    {
     "data": {
      "text/html": [
       "<div>\n",
       "<style>\n",
       "    .dataframe thead tr:only-child th {\n",
       "        text-align: right;\n",
       "    }\n",
       "\n",
       "    .dataframe thead th {\n",
       "        text-align: left;\n",
       "    }\n",
       "\n",
       "    .dataframe tbody tr th {\n",
       "        vertical-align: top;\n",
       "    }\n",
       "</style>\n",
       "<table border=\"1\" class=\"dataframe\">\n",
       "  <thead>\n",
       "    <tr style=\"text-align: right;\">\n",
       "      <th></th>\n",
       "      <th>customer_id</th>\n",
       "      <th>City</th>\n",
       "      <th>order_count</th>\n",
       "    </tr>\n",
       "  </thead>\n",
       "  <tbody>\n",
       "    <tr>\n",
       "      <th>387</th>\n",
       "      <td>220418</td>\n",
       "      <td>Philadelphia</td>\n",
       "      <td>3</td>\n",
       "    </tr>\n",
       "  </tbody>\n",
       "</table>\n",
       "</div>"
      ],
      "text/plain": [
       "     customer_id          City  order_count\n",
       "387       220418  Philadelphia            3"
      ]
     },
     "execution_count": 537,
     "metadata": {},
     "output_type": "execute_result"
    }
   ],
   "source": [
    "df[df['order_count']==df['order_count'].max()]"
   ]
  },
  {
   "attachments": {},
   "cell_type": "markdown",
   "metadata": {},
   "source": [
    "### 2. How many customers purchased more than 1 product? Solve with 1 formula and show the formula you used.\n",
    "#### Using the same dataframe from 1 we can filter data on product count greater than 1 and output the number of records"
   ]
  },
  {
   "cell_type": "code",
   "execution_count": 538,
   "metadata": {
    "ExecuteTime": {
     "end_time": "2019-03-21T02:29:00.505968Z",
     "start_time": "2019-03-21T02:29:00.481466Z"
    }
   },
   "outputs": [
    {
     "data": {
      "text/plain": [
       "4"
      ]
     },
     "execution_count": 538,
     "metadata": {},
     "output_type": "execute_result"
    }
   ],
   "source": [
    "multi_product=df[df['order_count']>1]\n",
    "len(multi_product)"
   ]
  },
  {
   "attachments": {},
   "cell_type": "markdown",
   "metadata": {},
   "source": [
    "### 3. Prepare a table chart that shows sold food boxes per weekday (Monday, Tuesday, Wednesday, Thursday, Friday, Saturday, Sunday). Explain how you calculated weekday.\n",
    "#### Using calendar library to create a weekday_name list and a lamba function to refrence the list based on the weekday number of the datetime values then grouped data on weekday and  plotted data using pandas plot"
   ]
  },
  {
   "cell_type": "code",
   "execution_count": 539,
   "metadata": {
    "ExecuteTime": {
     "end_time": "2019-03-21T02:29:00.535221Z",
     "start_time": "2019-03-21T02:29:00.511924Z"
    }
   },
   "outputs": [],
   "source": [
    "weekday_name = list(calendar.day_name)\n",
    "data['weekday'] = pd.Categorical(data['date_sign_up'].apply(\n",
    "    lambda x: weekday_name[x.weekday()]), categories=day_name, ordered=True)"
   ]
  },
  {
   "cell_type": "code",
   "execution_count": 540,
   "metadata": {
    "ExecuteTime": {
     "end_time": "2019-03-21T02:29:00.565450Z",
     "start_time": "2019-03-21T02:29:00.541736Z"
    }
   },
   "outputs": [],
   "source": [
    "week_data=data.groupby(['weekday'],as_index=False).agg({'product_name':'count'})\n",
    "week_data.rename(columns={'product_name':'order_count'},inplace=True)"
   ]
  },
  {
   "cell_type": "code",
   "execution_count": 541,
   "metadata": {
    "ExecuteTime": {
     "end_time": "2019-03-21T02:29:01.290500Z",
     "start_time": "2019-03-21T02:29:00.573289Z"
    }
   },
   "outputs": [
    {
     "data": {
      "image/png": "[encoded data removed]",
      "text/plain": [
       "<matplotlib.figure.Figure at 0x10957e450>"
      ]
     },
     "metadata": {},
     "output_type": "display_data"
    }
   ],
   "source": [
    "week_plot=week_data.plot(kind='bar',table=True,x=['weekday'],y=['order_count'],title='Orders by Day of Week',legend=False);\n",
    "week_plot.axes.get_xaxis().set_visible(False)\n",
    "table = week_plot.tables[0]\n",
    "table.set_fontsize(15)\n",
    "table.scale(1,2);"
   ]
  },
  {
   "attachments": {},
   "cell_type": "markdown",
   "metadata": {},
   "source": [
    "### 4. What were the earliest and latest times of day we sold a product on 04/14/2015?\n",
    "#### Create date and time columns from date_sign_up and ouput the min/max times for records on 4/14/2015"
   ]
  },
  {
   "cell_type": "code",
   "execution_count": 542,
   "metadata": {
    "ExecuteTime": {
     "end_time": "2019-03-21T02:29:01.310120Z",
     "start_time": "2019-03-21T02:29:01.295314Z"
    }
   },
   "outputs": [],
   "source": [
    "data['date']=data['date_sign_up'].apply(lambda x: x.date())\n",
    "data['time']=data['date_sign_up'].apply(lambda x: x.time())"
   ]
  },
  {
   "cell_type": "code",
   "execution_count": 543,
   "metadata": {
    "ExecuteTime": {
     "end_time": "2019-03-21T02:29:01.328465Z",
     "start_time": "2019-03-21T02:29:01.316606Z"
    }
   },
   "outputs": [
    {
     "name": "stdout",
     "output_type": "stream",
     "text": [
      "03:16:18\n"
     ]
    }
   ],
   "source": [
    "print data[data['date']==datetime.date(2015,4,14)]['time'].min()"
   ]
  },
  {
   "cell_type": "code",
   "execution_count": 544,
   "metadata": {
    "ExecuteTime": {
     "end_time": "2019-03-21T02:29:01.361583Z",
     "start_time": "2019-03-21T02:29:01.335268Z"
    }
   },
   "outputs": [
    {
     "name": "stdout",
     "output_type": "stream",
     "text": [
      "23:13:19\n"
     ]
    }
   ],
   "source": [
    "print data[data['date']==datetime.date(2015,4,14)]['time'].max()"
   ]
  },
  {
   "attachments": {},
   "cell_type": "markdown",
   "metadata": {},
   "source": [
    "### 5. How many products did we sell for 2 people? How many products did we sell for 4 people? Solve with formulas, not a pivot table.\n",
    "#### Given that that the position of the # of people is consistent within the product name I used string search based on the position of 'people' in the name to return the # of people in the column people_served"
   ]
  },
  {
   "cell_type": "code",
   "execution_count": 545,
   "metadata": {
    "ExecuteTime": {
     "end_time": "2019-03-21T02:29:01.380698Z",
     "start_time": "2019-03-21T02:29:01.368430Z"
    }
   },
   "outputs": [
    {
     "data": {
      "text/plain": [
       "array([u'Classic - 3 meals per week for 4 people',\n",
       "       u'Classic - 3 meals per week for 2 people',\n",
       "       u'3 Meals (vegetarian) for 4 people',\n",
       "       u'3 Meals (vegetarian) for 2 people'], dtype=object)"
      ]
     },
     "execution_count": 545,
     "metadata": {},
     "output_type": "execute_result"
    }
   ],
   "source": [
    "data['product_name'].unique()"
   ]
  },
  {
   "cell_type": "code",
   "execution_count": 546,
   "metadata": {
    "ExecuteTime": {
     "end_time": "2019-03-21T02:29:01.396822Z",
     "start_time": "2019-03-21T02:29:01.387237Z"
    }
   },
   "outputs": [],
   "source": [
    "data['people_served']=data['product_name'].apply(lambda x: x[x.find('people')-2:x.find('people')-1])"
   ]
  },
  {
   "cell_type": "code",
   "execution_count": 547,
   "metadata": {
    "ExecuteTime": {
     "end_time": "2019-03-21T02:29:01.423895Z",
     "start_time": "2019-03-21T02:29:01.402674Z"
    }
   },
   "outputs": [
    {
     "data": {
      "text/html": [
       "<div>\n",
       "<style>\n",
       "    .dataframe thead tr:only-child th {\n",
       "        text-align: right;\n",
       "    }\n",
       "\n",
       "    .dataframe thead th {\n",
       "        text-align: left;\n",
       "    }\n",
       "\n",
       "    .dataframe tbody tr th {\n",
       "        vertical-align: top;\n",
       "    }\n",
       "</style>\n",
       "<table border=\"1\" class=\"dataframe\">\n",
       "  <thead>\n",
       "    <tr style=\"text-align: right;\">\n",
       "      <th></th>\n",
       "      <th>people_served</th>\n",
       "    </tr>\n",
       "  </thead>\n",
       "  <tbody>\n",
       "    <tr>\n",
       "      <th>2</th>\n",
       "      <td>720</td>\n",
       "    </tr>\n",
       "    <tr>\n",
       "      <th>4</th>\n",
       "      <td>142</td>\n",
       "    </tr>\n",
       "  </tbody>\n",
       "</table>\n",
       "</div>"
      ],
      "text/plain": [
       "   people_served\n",
       "2            720\n",
       "4            142"
      ]
     },
     "execution_count": 547,
     "metadata": {},
     "output_type": "execute_result"
    }
   ],
   "source": [
    "pd.DataFrame(data['people_served'].value_counts())"
   ]
  },
  {
   "attachments": {},
   "cell_type": "markdown",
   "metadata": {},
   "source": [
    "### 6. How many veggie food boxes did we sell on 04/14/2015 via marketing channel Newsletters? Solve with 1 formula and show the formula you used.\n",
    "#### Filtered dataframe on date marketing channel containing 'Newsletters' and product_name containing 'vegetarian' to produce dataframe with only records that match all 3 parameters output length of dataframe to show number of records"
   ]
  },
  {
   "cell_type": "code",
   "execution_count": 548,
   "metadata": {
    "ExecuteTime": {
     "end_time": "2019-03-21T02:29:01.459242Z",
     "start_time": "2019-03-21T02:29:01.437862Z"
    }
   },
   "outputs": [
    {
     "data": {
      "text/plain": [
       "array([u'Newsletters (internal)', u'Search Engine Marketing',\n",
       "       u'TV / Radio Advertising', u'Partnership Marketing'], dtype=object)"
      ]
     },
     "execution_count": 548,
     "metadata": {},
     "output_type": "execute_result"
    }
   ],
   "source": [
    "data['marketing_channel'].unique()"
   ]
  },
  {
   "cell_type": "code",
   "execution_count": 549,
   "metadata": {
    "ExecuteTime": {
     "end_time": "2019-03-21T02:29:01.486228Z",
     "start_time": "2019-03-21T02:29:01.468862Z"
    }
   },
   "outputs": [
    {
     "data": {
      "text/plain": [
       "array([u'Classic - 3 meals per week for 4 people',\n",
       "       u'Classic - 3 meals per week for 2 people',\n",
       "       u'3 Meals (vegetarian) for 4 people',\n",
       "       u'3 Meals (vegetarian) for 2 people'], dtype=object)"
      ]
     },
     "execution_count": 549,
     "metadata": {},
     "output_type": "execute_result"
    }
   ],
   "source": [
    "data['product_name'].unique()"
   ]
  },
  {
   "cell_type": "code",
   "execution_count": 550,
   "metadata": {
    "ExecuteTime": {
     "end_time": "2019-03-21T02:29:01.516145Z",
     "start_time": "2019-03-21T02:29:01.493454Z"
    }
   },
   "outputs": [
    {
     "data": {
      "text/plain": [
       "11"
      ]
     },
     "execution_count": 550,
     "metadata": {},
     "output_type": "execute_result"
    }
   ],
   "source": [
    "veg_orders = data[(data['date'] == datetime.date(2015, 4, 14)) & (data['marketing_channel']).str.contains(\n",
    "    'Newsletters') & (data['product_name'].str.contains('vegetarian'))]\n",
    "len(veg_orders)"
   ]
  },
  {
   "attachments": {},
   "cell_type": "markdown",
   "metadata": {},
   "source": [
    "### 7. Add an additional column in the Data tab, in which you convert Column A from DateTime to Date format with a formula. Prepare a table chart showing how many classic food boxes and how many veggie food boxes we sold per date\n",
    "#### Extract Date from date_sign_up timestamp and created product_type column by applying simple function that checks for keyword 'Classic' in product_name then grouped and  pivoted data on product_type and plotted using pandas plot."
   ]
  },
  {
   "cell_type": "code",
   "execution_count": 551,
   "metadata": {
    "ExecuteTime": {
     "end_time": "2019-03-21T02:29:01.552289Z",
     "start_time": "2019-03-21T02:29:01.524307Z"
    }
   },
   "outputs": [
    {
     "data": {
      "text/plain": [
       "array([u'Classic - 3 meals per week for 4 people',\n",
       "       u'Classic - 3 meals per week for 2 people',\n",
       "       u'3 Meals (vegetarian) for 4 people',\n",
       "       u'3 Meals (vegetarian) for 2 people'], dtype=object)"
      ]
     },
     "execution_count": 551,
     "metadata": {},
     "output_type": "execute_result"
    }
   ],
   "source": [
    "data['product_name'].unique()"
   ]
  },
  {
   "cell_type": "code",
   "execution_count": 552,
   "metadata": {
    "ExecuteTime": {
     "end_time": "2019-03-21T02:29:01.582229Z",
     "start_time": "2019-03-21T02:29:01.560296Z"
    }
   },
   "outputs": [],
   "source": [
    "data['date']=data['date_sign_up'].apply(lambda x: x.date()) # Did this in Question 4 as well"
   ]
  },
  {
   "cell_type": "code",
   "execution_count": 553,
   "metadata": {
    "ExecuteTime": {
     "end_time": "2019-03-21T02:29:01.598715Z",
     "start_time": "2019-03-21T02:29:01.587761Z"
    },
    "code_folding": []
   },
   "outputs": [],
   "source": [
    "def get_product_type(x):\n",
    "    if 'Classic' in x:\n",
    "        return 'Classic'\n",
    "    else:\n",
    "        return 'Vegetarian'"
   ]
  },
  {
   "cell_type": "code",
   "execution_count": 554,
   "metadata": {
    "ExecuteTime": {
     "end_time": "2019-03-21T02:29:01.636542Z",
     "start_time": "2019-03-21T02:29:01.611134Z"
    }
   },
   "outputs": [],
   "source": [
    "data['product_type']=data['product_name'].apply(lambda x: get_product_type(x))"
   ]
  },
  {
   "cell_type": "code",
   "execution_count": 555,
   "metadata": {
    "ExecuteTime": {
     "end_time": "2019-03-21T02:29:01.667009Z",
     "start_time": "2019-03-21T02:29:01.644454Z"
    }
   },
   "outputs": [],
   "source": [
    "date_df=data.groupby(['date','product_type'],as_index=False).agg({'product_name':'count'})\n",
    "date_df.rename(columns={'product_name':'order_count'},inplace=True)"
   ]
  },
  {
   "cell_type": "code",
   "execution_count": 556,
   "metadata": {
    "ExecuteTime": {
     "end_time": "2019-03-21T02:29:02.415247Z",
     "start_time": "2019-03-21T02:29:01.673588Z"
    }
   },
   "outputs": [
    {
     "data": {
      "image/png": "[encoded data removed]",
      "text/plain": [
       "<matplotlib.figure.Figure at 0x10957e150>"
      ]
     },
     "metadata": {},
     "output_type": "display_data"
    }
   ],
   "source": [
    "date_plot = date_df.pivot(index='date', columns='product_type', values='order_count').plot(\n",
    "    kind='bar', table=True, title='Orders by Day', legend=True)\n",
    "date_plot.axes.get_xaxis().set_visible(False)\n",
    "table = date_plot.tables[0]\n",
    "table.scale(1, 2)"
   ]
  },
  {
   "attachments": {},
   "cell_type": "markdown",
   "metadata": {},
   "source": [
    "### 8. How many \"Classic - 3 meals per week for 2 people\" boxes did we sell via marketing channel \"TV / Radio Advertising\"? Solve with 1 formula and show the formula you used.\n",
    "#### Filtered dataframe on the parameters and output the length of the filtered dataframe."
   ]
  },
  {
   "cell_type": "code",
   "execution_count": 557,
   "metadata": {
    "ExecuteTime": {
     "end_time": "2019-03-21T02:29:02.450933Z",
     "start_time": "2019-03-21T02:29:02.427345Z"
    }
   },
   "outputs": [
    {
     "data": {
      "text/plain": [
       "203"
      ]
     },
     "execution_count": 557,
     "metadata": {},
     "output_type": "execute_result"
    }
   ],
   "source": [
    "class_df=data[(data['product_name']=='Classic - 3 meals per week for 2 people')&(data['marketing_channel']=='TV / Radio Advertising')]\n",
    "len(class_df)"
   ]
  },
  {
   "attachments": {},
   "cell_type": "markdown",
   "metadata": {},
   "source": [
    "### 9. In an additional column in the Data tab, mark all boxes sold in \"New York\" via Marketing channel \"Newsletters (internal)\" with a 1, and all other box city combinations with a 0. Solve with 1 formula and show the formula you used\n",
    "#### Used function that searches the relevant columns and each row and returns 1 when it matches the parameters and 0 when it doesn't. Applied this function to dataframe to create 'ny_by_news' column"
   ]
  },
  {
   "cell_type": "code",
   "execution_count": 558,
   "metadata": {
    "ExecuteTime": {
     "end_time": "2019-03-21T02:29:02.465484Z",
     "start_time": "2019-03-21T02:29:02.456404Z"
    },
    "code_folding": []
   },
   "outputs": [],
   "source": [
    "def tag_ny_news(row):\n",
    "    if 'New York' in row['City'] and 'Newsletters' in row['marketing_channel']:\n",
    "        return 1\n",
    "    else:\n",
    "        return 0"
   ]
  },
  {
   "cell_type": "code",
   "execution_count": 559,
   "metadata": {
    "ExecuteTime": {
     "end_time": "2019-03-21T02:29:02.808734Z",
     "start_time": "2019-03-21T02:29:02.472336Z"
    }
   },
   "outputs": [
    {
     "data": {
      "text/html": [
       "<div>\n",
       "<style>\n",
       "    .dataframe thead tr:only-child th {\n",
       "        text-align: right;\n",
       "    }\n",
       "\n",
       "    .dataframe thead th {\n",
       "        text-align: left;\n",
       "    }\n",
       "\n",
       "    .dataframe tbody tr th {\n",
       "        vertical-align: top;\n",
       "    }\n",
       "</style>\n",
       "<table border=\"1\" class=\"dataframe\">\n",
       "  <thead>\n",
       "    <tr style=\"text-align: right;\">\n",
       "      <th></th>\n",
       "      <th>date_sign_up</th>\n",
       "      <th>customer_id</th>\n",
       "      <th>product_name</th>\n",
       "      <th>marketing_channel</th>\n",
       "      <th>City</th>\n",
       "      <th>ny_by_news</th>\n",
       "    </tr>\n",
       "  </thead>\n",
       "  <tbody>\n",
       "    <tr>\n",
       "      <th>0</th>\n",
       "      <td>2015-04-15 09:55:21</td>\n",
       "      <td>220418</td>\n",
       "      <td>Classic - 3 meals per week for 4 people</td>\n",
       "      <td>Newsletters (internal)</td>\n",
       "      <td>Philadelphia</td>\n",
       "      <td>0</td>\n",
       "    </tr>\n",
       "    <tr>\n",
       "      <th>1</th>\n",
       "      <td>2015-04-15 09:55:22</td>\n",
       "      <td>220418</td>\n",
       "      <td>Classic - 3 meals per week for 4 people</td>\n",
       "      <td>Newsletters (internal)</td>\n",
       "      <td>Philadelphia</td>\n",
       "      <td>0</td>\n",
       "    </tr>\n",
       "    <tr>\n",
       "      <th>2</th>\n",
       "      <td>2015-04-15 09:55:22</td>\n",
       "      <td>220418</td>\n",
       "      <td>Classic - 3 meals per week for 2 people</td>\n",
       "      <td>Newsletters (internal)</td>\n",
       "      <td>Philadelphia</td>\n",
       "      <td>0</td>\n",
       "    </tr>\n",
       "    <tr>\n",
       "      <th>3</th>\n",
       "      <td>2015-04-15 18:12:20</td>\n",
       "      <td>221501</td>\n",
       "      <td>3 Meals (vegetarian) for 4 people</td>\n",
       "      <td>Newsletters (internal)</td>\n",
       "      <td>Philadelphia</td>\n",
       "      <td>0</td>\n",
       "    </tr>\n",
       "    <tr>\n",
       "      <th>4</th>\n",
       "      <td>2015-04-15 18:12:20</td>\n",
       "      <td>221501</td>\n",
       "      <td>Classic - 3 meals per week for 2 people</td>\n",
       "      <td>Newsletters (internal)</td>\n",
       "      <td>Philadelphia</td>\n",
       "      <td>0</td>\n",
       "    </tr>\n",
       "    <tr>\n",
       "      <th>5</th>\n",
       "      <td>2015-04-15 19:32:18</td>\n",
       "      <td>221710</td>\n",
       "      <td>3 Meals (vegetarian) for 2 people</td>\n",
       "      <td>Newsletters (internal)</td>\n",
       "      <td>San Diego</td>\n",
       "      <td>0</td>\n",
       "    </tr>\n",
       "    <tr>\n",
       "      <th>6</th>\n",
       "      <td>2015-04-15 19:32:18</td>\n",
       "      <td>221710</td>\n",
       "      <td>Classic - 3 meals per week for 4 people</td>\n",
       "      <td>Newsletters (internal)</td>\n",
       "      <td>San Diego</td>\n",
       "      <td>0</td>\n",
       "    </tr>\n",
       "    <tr>\n",
       "      <th>7</th>\n",
       "      <td>2015-04-19 19:56:20</td>\n",
       "      <td>226594</td>\n",
       "      <td>Classic - 3 meals per week for 2 people</td>\n",
       "      <td>Newsletters (internal)</td>\n",
       "      <td>Miami</td>\n",
       "      <td>0</td>\n",
       "    </tr>\n",
       "    <tr>\n",
       "      <th>8</th>\n",
       "      <td>2015-04-19 19:56:21</td>\n",
       "      <td>226594</td>\n",
       "      <td>Classic - 3 meals per week for 4 people</td>\n",
       "      <td>Newsletters (internal)</td>\n",
       "      <td>Miami</td>\n",
       "      <td>0</td>\n",
       "    </tr>\n",
       "    <tr>\n",
       "      <th>9</th>\n",
       "      <td>2015-04-17 13:11:19</td>\n",
       "      <td>71041</td>\n",
       "      <td>Classic - 3 meals per week for 2 people</td>\n",
       "      <td>Search Engine Marketing</td>\n",
       "      <td>San Diego</td>\n",
       "      <td>0</td>\n",
       "    </tr>\n",
       "    <tr>\n",
       "      <th>10</th>\n",
       "      <td>2015-04-14 11:32:19</td>\n",
       "      <td>103289</td>\n",
       "      <td>Classic - 3 meals per week for 2 people</td>\n",
       "      <td>Newsletters (internal)</td>\n",
       "      <td>Los Angeles</td>\n",
       "      <td>0</td>\n",
       "    </tr>\n",
       "    <tr>\n",
       "      <th>11</th>\n",
       "      <td>2015-04-14 09:53:20</td>\n",
       "      <td>107746</td>\n",
       "      <td>Classic - 3 meals per week for 2 people</td>\n",
       "      <td>Newsletters (internal)</td>\n",
       "      <td>Los Angeles</td>\n",
       "      <td>0</td>\n",
       "    </tr>\n",
       "    <tr>\n",
       "      <th>12</th>\n",
       "      <td>2015-04-14 16:08:18</td>\n",
       "      <td>157441</td>\n",
       "      <td>Classic - 3 meals per week for 4 people</td>\n",
       "      <td>Newsletters (internal)</td>\n",
       "      <td>San Francisco</td>\n",
       "      <td>0</td>\n",
       "    </tr>\n",
       "    <tr>\n",
       "      <th>13</th>\n",
       "      <td>2015-04-18 08:04:20</td>\n",
       "      <td>158646</td>\n",
       "      <td>Classic - 3 meals per week for 2 people</td>\n",
       "      <td>Newsletters (internal)</td>\n",
       "      <td>San Diego</td>\n",
       "      <td>0</td>\n",
       "    </tr>\n",
       "    <tr>\n",
       "      <th>14</th>\n",
       "      <td>2015-04-18 15:41:19</td>\n",
       "      <td>178843</td>\n",
       "      <td>3 Meals (vegetarian) for 2 people</td>\n",
       "      <td>TV / Radio Advertising</td>\n",
       "      <td>Miami</td>\n",
       "      <td>0</td>\n",
       "    </tr>\n",
       "    <tr>\n",
       "      <th>15</th>\n",
       "      <td>2015-04-15 09:45:18</td>\n",
       "      <td>179297</td>\n",
       "      <td>Classic - 3 meals per week for 2 people</td>\n",
       "      <td>Newsletters (internal)</td>\n",
       "      <td>Philadelphia</td>\n",
       "      <td>0</td>\n",
       "    </tr>\n",
       "    <tr>\n",
       "      <th>16</th>\n",
       "      <td>2015-04-15 08:21:25</td>\n",
       "      <td>182439</td>\n",
       "      <td>3 Meals (vegetarian) for 2 people</td>\n",
       "      <td>Newsletters (internal)</td>\n",
       "      <td>San Francisco</td>\n",
       "      <td>0</td>\n",
       "    </tr>\n",
       "    <tr>\n",
       "      <th>17</th>\n",
       "      <td>2015-04-17 06:57:18</td>\n",
       "      <td>186180</td>\n",
       "      <td>Classic - 3 meals per week for 2 people</td>\n",
       "      <td>Partnership Marketing</td>\n",
       "      <td>San Diego</td>\n",
       "      <td>0</td>\n",
       "    </tr>\n",
       "    <tr>\n",
       "      <th>18</th>\n",
       "      <td>2015-04-19 20:39:19</td>\n",
       "      <td>190396</td>\n",
       "      <td>Classic - 3 meals per week for 2 people</td>\n",
       "      <td>TV / Radio Advertising</td>\n",
       "      <td>Miami</td>\n",
       "      <td>0</td>\n",
       "    </tr>\n",
       "    <tr>\n",
       "      <th>19</th>\n",
       "      <td>2015-04-14 10:26:24</td>\n",
       "      <td>194229</td>\n",
       "      <td>Classic - 3 meals per week for 2 people</td>\n",
       "      <td>Search Engine Marketing</td>\n",
       "      <td>Los Angeles</td>\n",
       "      <td>0</td>\n",
       "    </tr>\n",
       "    <tr>\n",
       "      <th>20</th>\n",
       "      <td>2015-04-13 20:17:18</td>\n",
       "      <td>194353</td>\n",
       "      <td>Classic - 3 meals per week for 2 people</td>\n",
       "      <td>Search Engine Marketing</td>\n",
       "      <td>Washington</td>\n",
       "      <td>0</td>\n",
       "    </tr>\n",
       "    <tr>\n",
       "      <th>21</th>\n",
       "      <td>2015-04-15 14:43:20</td>\n",
       "      <td>200286</td>\n",
       "      <td>Classic - 3 meals per week for 2 people</td>\n",
       "      <td>Search Engine Marketing</td>\n",
       "      <td>Philadelphia</td>\n",
       "      <td>0</td>\n",
       "    </tr>\n",
       "    <tr>\n",
       "      <th>22</th>\n",
       "      <td>2015-04-16 07:35:22</td>\n",
       "      <td>201307</td>\n",
       "      <td>Classic - 3 meals per week for 2 people</td>\n",
       "      <td>TV / Radio Advertising</td>\n",
       "      <td>1San Diego</td>\n",
       "      <td>0</td>\n",
       "    </tr>\n",
       "    <tr>\n",
       "      <th>23</th>\n",
       "      <td>2015-04-15 06:54:19</td>\n",
       "      <td>203319</td>\n",
       "      <td>Classic - 3 meals per week for 2 people</td>\n",
       "      <td>Newsletters (internal)</td>\n",
       "      <td>San Francisco</td>\n",
       "      <td>0</td>\n",
       "    </tr>\n",
       "    <tr>\n",
       "      <th>24</th>\n",
       "      <td>2015-04-14 08:35:20</td>\n",
       "      <td>205233</td>\n",
       "      <td>Classic - 3 meals per week for 2 people</td>\n",
       "      <td>TV / Radio Advertising</td>\n",
       "      <td>Los Angeles</td>\n",
       "      <td>0</td>\n",
       "    </tr>\n",
       "    <tr>\n",
       "      <th>25</th>\n",
       "      <td>2015-04-13 12:08:19</td>\n",
       "      <td>205322</td>\n",
       "      <td>Classic - 3 meals per week for 2 people</td>\n",
       "      <td>Newsletters (internal)</td>\n",
       "      <td>Chicago</td>\n",
       "      <td>0</td>\n",
       "    </tr>\n",
       "    <tr>\n",
       "      <th>26</th>\n",
       "      <td>2015-04-16 05:04:21</td>\n",
       "      <td>205611</td>\n",
       "      <td>Classic - 3 meals per week for 2 people</td>\n",
       "      <td>TV / Radio Advertising</td>\n",
       "      <td>San Diego</td>\n",
       "      <td>0</td>\n",
       "    </tr>\n",
       "    <tr>\n",
       "      <th>27</th>\n",
       "      <td>2015-04-15 12:17:18</td>\n",
       "      <td>208066</td>\n",
       "      <td>3 Meals (vegetarian) for 4 people</td>\n",
       "      <td>Newsletters (internal)</td>\n",
       "      <td>Philadelphia</td>\n",
       "      <td>0</td>\n",
       "    </tr>\n",
       "    <tr>\n",
       "      <th>28</th>\n",
       "      <td>2015-04-14 17:42:19</td>\n",
       "      <td>208079</td>\n",
       "      <td>Classic - 3 meals per week for 2 people</td>\n",
       "      <td>Newsletters (internal)</td>\n",
       "      <td>San Francisco</td>\n",
       "      <td>0</td>\n",
       "    </tr>\n",
       "    <tr>\n",
       "      <th>29</th>\n",
       "      <td>2015-04-15 09:58:19</td>\n",
       "      <td>209055</td>\n",
       "      <td>Classic - 3 meals per week for 2 people</td>\n",
       "      <td>Newsletters (internal)</td>\n",
       "      <td>Philadelphia</td>\n",
       "      <td>0</td>\n",
       "    </tr>\n",
       "    <tr>\n",
       "      <th>...</th>\n",
       "      <td>...</td>\n",
       "      <td>...</td>\n",
       "      <td>...</td>\n",
       "      <td>...</td>\n",
       "      <td>...</td>\n",
       "      <td>...</td>\n",
       "    </tr>\n",
       "    <tr>\n",
       "      <th>832</th>\n",
       "      <td>2015-04-19 17:31:19</td>\n",
       "      <td>226387</td>\n",
       "      <td>Classic - 3 meals per week for 2 people</td>\n",
       "      <td>TV / Radio Advertising</td>\n",
       "      <td>Miami</td>\n",
       "      <td>0</td>\n",
       "    </tr>\n",
       "    <tr>\n",
       "      <th>833</th>\n",
       "      <td>2015-04-19 17:40:21</td>\n",
       "      <td>226397</td>\n",
       "      <td>Classic - 3 meals per week for 4 people</td>\n",
       "      <td>Search Engine Marketing</td>\n",
       "      <td>Miami</td>\n",
       "      <td>0</td>\n",
       "    </tr>\n",
       "    <tr>\n",
       "      <th>834</th>\n",
       "      <td>2015-04-19 17:40:21</td>\n",
       "      <td>226400</td>\n",
       "      <td>Classic - 3 meals per week for 2 people</td>\n",
       "      <td>TV / Radio Advertising</td>\n",
       "      <td>Miami</td>\n",
       "      <td>0</td>\n",
       "    </tr>\n",
       "    <tr>\n",
       "      <th>835</th>\n",
       "      <td>2015-04-19 17:48:19</td>\n",
       "      <td>226408</td>\n",
       "      <td>Classic - 3 meals per week for 2 people</td>\n",
       "      <td>TV / Radio Advertising</td>\n",
       "      <td>Miami</td>\n",
       "      <td>0</td>\n",
       "    </tr>\n",
       "    <tr>\n",
       "      <th>836</th>\n",
       "      <td>2015-04-19 17:51:19</td>\n",
       "      <td>226414</td>\n",
       "      <td>Classic - 3 meals per week for 2 people</td>\n",
       "      <td>Newsletters (internal)</td>\n",
       "      <td>Miami</td>\n",
       "      <td>0</td>\n",
       "    </tr>\n",
       "    <tr>\n",
       "      <th>837</th>\n",
       "      <td>2015-04-19 18:13:19</td>\n",
       "      <td>226423</td>\n",
       "      <td>Classic - 3 meals per week for 2 people</td>\n",
       "      <td>TV / Radio Advertising</td>\n",
       "      <td>Miami</td>\n",
       "      <td>0</td>\n",
       "    </tr>\n",
       "    <tr>\n",
       "      <th>838</th>\n",
       "      <td>2015-04-19 18:14:20</td>\n",
       "      <td>226427</td>\n",
       "      <td>Classic - 3 meals per week for 2 people</td>\n",
       "      <td>TV / Radio Advertising</td>\n",
       "      <td>Miami</td>\n",
       "      <td>0</td>\n",
       "    </tr>\n",
       "    <tr>\n",
       "      <th>839</th>\n",
       "      <td>2015-04-19 17:57:19</td>\n",
       "      <td>226428</td>\n",
       "      <td>Classic - 3 meals per week for 2 people</td>\n",
       "      <td>TV / Radio Advertising</td>\n",
       "      <td>Miami</td>\n",
       "      <td>0</td>\n",
       "    </tr>\n",
       "    <tr>\n",
       "      <th>840</th>\n",
       "      <td>2015-04-19 18:04:18</td>\n",
       "      <td>226437</td>\n",
       "      <td>Classic - 3 meals per week for 2 people</td>\n",
       "      <td>TV / Radio Advertising</td>\n",
       "      <td>Miami</td>\n",
       "      <td>0</td>\n",
       "    </tr>\n",
       "    <tr>\n",
       "      <th>841</th>\n",
       "      <td>2015-04-19 18:08:20</td>\n",
       "      <td>226445</td>\n",
       "      <td>Classic - 3 meals per week for 2 people</td>\n",
       "      <td>Newsletters (internal)</td>\n",
       "      <td>Miami</td>\n",
       "      <td>0</td>\n",
       "    </tr>\n",
       "    <tr>\n",
       "      <th>842</th>\n",
       "      <td>2015-04-19 18:26:19</td>\n",
       "      <td>226475</td>\n",
       "      <td>Classic - 3 meals per week for 2 people</td>\n",
       "      <td>TV / Radio Advertising</td>\n",
       "      <td>Miami</td>\n",
       "      <td>0</td>\n",
       "    </tr>\n",
       "    <tr>\n",
       "      <th>843</th>\n",
       "      <td>2015-04-19 18:28:20</td>\n",
       "      <td>226477</td>\n",
       "      <td>3 Meals (vegetarian) for 2 people</td>\n",
       "      <td>TV / Radio Advertising</td>\n",
       "      <td>Miami</td>\n",
       "      <td>0</td>\n",
       "    </tr>\n",
       "    <tr>\n",
       "      <th>844</th>\n",
       "      <td>2015-04-19 18:33:19</td>\n",
       "      <td>226487</td>\n",
       "      <td>Classic - 3 meals per week for 2 people</td>\n",
       "      <td>Newsletters (internal)</td>\n",
       "      <td>Miami</td>\n",
       "      <td>0</td>\n",
       "    </tr>\n",
       "    <tr>\n",
       "      <th>845</th>\n",
       "      <td>2015-04-19 18:35:20</td>\n",
       "      <td>226489</td>\n",
       "      <td>Classic - 3 meals per week for 2 people</td>\n",
       "      <td>TV / Radio Advertising</td>\n",
       "      <td>Miami</td>\n",
       "      <td>0</td>\n",
       "    </tr>\n",
       "    <tr>\n",
       "      <th>846</th>\n",
       "      <td>2015-04-19 18:44:19</td>\n",
       "      <td>226505</td>\n",
       "      <td>Classic - 3 meals per week for 2 people</td>\n",
       "      <td>Newsletters (internal)</td>\n",
       "      <td>Miami</td>\n",
       "      <td>0</td>\n",
       "    </tr>\n",
       "    <tr>\n",
       "      <th>847</th>\n",
       "      <td>2015-04-19 18:45:21</td>\n",
       "      <td>226510</td>\n",
       "      <td>Classic - 3 meals per week for 2 people</td>\n",
       "      <td>Newsletters (internal)</td>\n",
       "      <td>Miami</td>\n",
       "      <td>0</td>\n",
       "    </tr>\n",
       "    <tr>\n",
       "      <th>848</th>\n",
       "      <td>2015-04-19 18:55:20</td>\n",
       "      <td>226525</td>\n",
       "      <td>Classic - 3 meals per week for 4 people</td>\n",
       "      <td>Newsletters (internal)</td>\n",
       "      <td>Miami</td>\n",
       "      <td>0</td>\n",
       "    </tr>\n",
       "    <tr>\n",
       "      <th>849</th>\n",
       "      <td>2015-04-19 19:07:20</td>\n",
       "      <td>226539</td>\n",
       "      <td>Classic - 3 meals per week for 2 people</td>\n",
       "      <td>Newsletters (internal)</td>\n",
       "      <td>Miami</td>\n",
       "      <td>0</td>\n",
       "    </tr>\n",
       "    <tr>\n",
       "      <th>850</th>\n",
       "      <td>2015-04-19 19:25:19</td>\n",
       "      <td>226544</td>\n",
       "      <td>Classic - 3 meals per week for 2 people</td>\n",
       "      <td>TV / Radio Advertising</td>\n",
       "      <td>Miami</td>\n",
       "      <td>0</td>\n",
       "    </tr>\n",
       "    <tr>\n",
       "      <th>851</th>\n",
       "      <td>2015-04-19 19:30:19</td>\n",
       "      <td>226562</td>\n",
       "      <td>Classic - 3 meals per week for 2 people</td>\n",
       "      <td>TV / Radio Advertising</td>\n",
       "      <td>Miami</td>\n",
       "      <td>0</td>\n",
       "    </tr>\n",
       "    <tr>\n",
       "      <th>852</th>\n",
       "      <td>2015-04-19 19:41:19</td>\n",
       "      <td>226575</td>\n",
       "      <td>Classic - 3 meals per week for 2 people</td>\n",
       "      <td>Newsletters (internal)</td>\n",
       "      <td>Miami</td>\n",
       "      <td>0</td>\n",
       "    </tr>\n",
       "    <tr>\n",
       "      <th>853</th>\n",
       "      <td>2015-04-19 20:04:18</td>\n",
       "      <td>226601</td>\n",
       "      <td>Classic - 3 meals per week for 2 people</td>\n",
       "      <td>TV / Radio Advertising</td>\n",
       "      <td>Miami</td>\n",
       "      <td>0</td>\n",
       "    </tr>\n",
       "    <tr>\n",
       "      <th>854</th>\n",
       "      <td>2015-04-19 20:48:18</td>\n",
       "      <td>226627</td>\n",
       "      <td>Classic - 3 meals per week for 4 people</td>\n",
       "      <td>TV / Radio Advertising</td>\n",
       "      <td>Miami</td>\n",
       "      <td>0</td>\n",
       "    </tr>\n",
       "    <tr>\n",
       "      <th>855</th>\n",
       "      <td>2015-04-19 20:54:19</td>\n",
       "      <td>226642</td>\n",
       "      <td>Classic - 3 meals per week for 2 people</td>\n",
       "      <td>TV / Radio Advertising</td>\n",
       "      <td>Miami</td>\n",
       "      <td>0</td>\n",
       "    </tr>\n",
       "    <tr>\n",
       "      <th>856</th>\n",
       "      <td>2015-04-19 21:40:19</td>\n",
       "      <td>226656</td>\n",
       "      <td>Classic - 3 meals per week for 2 people</td>\n",
       "      <td>Newsletters (internal)</td>\n",
       "      <td>Miami</td>\n",
       "      <td>0</td>\n",
       "    </tr>\n",
       "    <tr>\n",
       "      <th>857</th>\n",
       "      <td>2015-04-19 21:35:19</td>\n",
       "      <td>226658</td>\n",
       "      <td>Classic - 3 meals per week for 2 people</td>\n",
       "      <td>TV / Radio Advertising</td>\n",
       "      <td>Miami</td>\n",
       "      <td>0</td>\n",
       "    </tr>\n",
       "    <tr>\n",
       "      <th>858</th>\n",
       "      <td>2015-04-19 22:14:19</td>\n",
       "      <td>226671</td>\n",
       "      <td>Classic - 3 meals per week for 4 people</td>\n",
       "      <td>Partnership Marketing</td>\n",
       "      <td>Miami</td>\n",
       "      <td>0</td>\n",
       "    </tr>\n",
       "    <tr>\n",
       "      <th>859</th>\n",
       "      <td>2015-04-19 22:33:19</td>\n",
       "      <td>226678</td>\n",
       "      <td>Classic - 3 meals per week for 2 people</td>\n",
       "      <td>TV / Radio Advertising</td>\n",
       "      <td>Miami</td>\n",
       "      <td>0</td>\n",
       "    </tr>\n",
       "    <tr>\n",
       "      <th>860</th>\n",
       "      <td>2015-04-19 22:54:18</td>\n",
       "      <td>226683</td>\n",
       "      <td>Classic - 3 meals per week for 2 people</td>\n",
       "      <td>Partnership Marketing</td>\n",
       "      <td>Miami</td>\n",
       "      <td>0</td>\n",
       "    </tr>\n",
       "    <tr>\n",
       "      <th>861</th>\n",
       "      <td>2015-04-19 23:54:19</td>\n",
       "      <td>226697</td>\n",
       "      <td>Classic - 3 meals per week for 2 people</td>\n",
       "      <td>Partnership Marketing</td>\n",
       "      <td>Miami</td>\n",
       "      <td>0</td>\n",
       "    </tr>\n",
       "  </tbody>\n",
       "</table>\n",
       "<p>862 rows × 6 columns</p>\n",
       "</div>"
      ],
      "text/plain": [
       "           date_sign_up  customer_id                             product_name  \\\n",
       "0   2015-04-15 09:55:21       220418  Classic - 3 meals per week for 4 people   \n",
       "1   2015-04-15 09:55:22       220418  Classic - 3 meals per week for 4 people   \n",
       "2   2015-04-15 09:55:22       220418  Classic - 3 meals per week for 2 people   \n",
       "3   2015-04-15 18:12:20       221501        3 Meals (vegetarian) for 4 people   \n",
       "4   2015-04-15 18:12:20       221501  Classic - 3 meals per week for 2 people   \n",
       "5   2015-04-15 19:32:18       221710        3 Meals (vegetarian) for 2 people   \n",
       "6   2015-04-15 19:32:18       221710  Classic - 3 meals per week for 4 people   \n",
       "7   2015-04-19 19:56:20       226594  Classic - 3 meals per week for 2 people   \n",
       "8   2015-04-19 19:56:21       226594  Classic - 3 meals per week for 4 people   \n",
       "9   2015-04-17 13:11:19        71041  Classic - 3 meals per week for 2 people   \n",
       "10  2015-04-14 11:32:19       103289  Classic - 3 meals per week for 2 people   \n",
       "11  2015-04-14 09:53:20       107746  Classic - 3 meals per week for 2 people   \n",
       "12  2015-04-14 16:08:18       157441  Classic - 3 meals per week for 4 people   \n",
       "13  2015-04-18 08:04:20       158646  Classic - 3 meals per week for 2 people   \n",
       "14  2015-04-18 15:41:19       178843        3 Meals (vegetarian) for 2 people   \n",
       "15  2015-04-15 09:45:18       179297  Classic - 3 meals per week for 2 people   \n",
       "16  2015-04-15 08:21:25       182439        3 Meals (vegetarian) for 2 people   \n",
       "17  2015-04-17 06:57:18       186180  Classic - 3 meals per week for 2 people   \n",
       "18  2015-04-19 20:39:19       190396  Classic - 3 meals per week for 2 people   \n",
       "19  2015-04-14 10:26:24       194229  Classic - 3 meals per week for 2 people   \n",
       "20  2015-04-13 20:17:18       194353  Classic - 3 meals per week for 2 people   \n",
       "21  2015-04-15 14:43:20       200286  Classic - 3 meals per week for 2 people   \n",
       "22  2015-04-16 07:35:22       201307  Classic - 3 meals per week for 2 people   \n",
       "23  2015-04-15 06:54:19       203319  Classic - 3 meals per week for 2 people   \n",
       "24  2015-04-14 08:35:20       205233  Classic - 3 meals per week for 2 people   \n",
       "25  2015-04-13 12:08:19       205322  Classic - 3 meals per week for 2 people   \n",
       "26  2015-04-16 05:04:21       205611  Classic - 3 meals per week for 2 people   \n",
       "27  2015-04-15 12:17:18       208066        3 Meals (vegetarian) for 4 people   \n",
       "28  2015-04-14 17:42:19       208079  Classic - 3 meals per week for 2 people   \n",
       "29  2015-04-15 09:58:19       209055  Classic - 3 meals per week for 2 people   \n",
       "..                  ...          ...                                      ...   \n",
       "832 2015-04-19 17:31:19       226387  Classic - 3 meals per week for 2 people   \n",
       "833 2015-04-19 17:40:21       226397  Classic - 3 meals per week for 4 people   \n",
       "834 2015-04-19 17:40:21       226400  Classic - 3 meals per week for 2 people   \n",
       "835 2015-04-19 17:48:19       226408  Classic - 3 meals per week for 2 people   \n",
       "836 2015-04-19 17:51:19       226414  Classic - 3 meals per week for 2 people   \n",
       "837 2015-04-19 18:13:19       226423  Classic - 3 meals per week for 2 people   \n",
       "838 2015-04-19 18:14:20       226427  Classic - 3 meals per week for 2 people   \n",
       "839 2015-04-19 17:57:19       226428  Classic - 3 meals per week for 2 people   \n",
       "840 2015-04-19 18:04:18       226437  Classic - 3 meals per week for 2 people   \n",
       "841 2015-04-19 18:08:20       226445  Classic - 3 meals per week for 2 people   \n",
       "842 2015-04-19 18:26:19       226475  Classic - 3 meals per week for 2 people   \n",
       "843 2015-04-19 18:28:20       226477        3 Meals (vegetarian) for 2 people   \n",
       "844 2015-04-19 18:33:19       226487  Classic - 3 meals per week for 2 people   \n",
       "845 2015-04-19 18:35:20       226489  Classic - 3 meals per week for 2 people   \n",
       "846 2015-04-19 18:44:19       226505  Classic - 3 meals per week for 2 people   \n",
       "847 2015-04-19 18:45:21       226510  Classic - 3 meals per week for 2 people   \n",
       "848 2015-04-19 18:55:20       226525  Classic - 3 meals per week for 4 people   \n",
       "849 2015-04-19 19:07:20       226539  Classic - 3 meals per week for 2 people   \n",
       "850 2015-04-19 19:25:19       226544  Classic - 3 meals per week for 2 people   \n",
       "851 2015-04-19 19:30:19       226562  Classic - 3 meals per week for 2 people   \n",
       "852 2015-04-19 19:41:19       226575  Classic - 3 meals per week for 2 people   \n",
       "853 2015-04-19 20:04:18       226601  Classic - 3 meals per week for 2 people   \n",
       "854 2015-04-19 20:48:18       226627  Classic - 3 meals per week for 4 people   \n",
       "855 2015-04-19 20:54:19       226642  Classic - 3 meals per week for 2 people   \n",
       "856 2015-04-19 21:40:19       226656  Classic - 3 meals per week for 2 people   \n",
       "857 2015-04-19 21:35:19       226658  Classic - 3 meals per week for 2 people   \n",
       "858 2015-04-19 22:14:19       226671  Classic - 3 meals per week for 4 people   \n",
       "859 2015-04-19 22:33:19       226678  Classic - 3 meals per week for 2 people   \n",
       "860 2015-04-19 22:54:18       226683  Classic - 3 meals per week for 2 people   \n",
       "861 2015-04-19 23:54:19       226697  Classic - 3 meals per week for 2 people   \n",
       "\n",
       "           marketing_channel           City  ny_by_news  \n",
       "0     Newsletters (internal)   Philadelphia           0  \n",
       "1     Newsletters (internal)   Philadelphia           0  \n",
       "2     Newsletters (internal)   Philadelphia           0  \n",
       "3     Newsletters (internal)   Philadelphia           0  \n",
       "4     Newsletters (internal)   Philadelphia           0  \n",
       "5     Newsletters (internal)      San Diego           0  \n",
       "6     Newsletters (internal)      San Diego           0  \n",
       "7     Newsletters (internal)          Miami           0  \n",
       "8     Newsletters (internal)          Miami           0  \n",
       "9    Search Engine Marketing     San Diego            0  \n",
       "10    Newsletters (internal)    Los Angeles           0  \n",
       "11    Newsletters (internal)    Los Angeles           0  \n",
       "12    Newsletters (internal)  San Francisco           0  \n",
       "13    Newsletters (internal)     San Diego            0  \n",
       "14    TV / Radio Advertising          Miami           0  \n",
       "15    Newsletters (internal)   Philadelphia           0  \n",
       "16    Newsletters (internal)  San Francisco           0  \n",
       "17     Partnership Marketing     San Diego            0  \n",
       "18    TV / Radio Advertising          Miami           0  \n",
       "19   Search Engine Marketing    Los Angeles           0  \n",
       "20   Search Engine Marketing     Washington           0  \n",
       "21   Search Engine Marketing   Philadelphia           0  \n",
       "22    TV / Radio Advertising     1San Diego           0  \n",
       "23    Newsletters (internal)  San Francisco           0  \n",
       "24    TV / Radio Advertising    Los Angeles           0  \n",
       "25    Newsletters (internal)        Chicago           0  \n",
       "26    TV / Radio Advertising     San Diego            0  \n",
       "27    Newsletters (internal)   Philadelphia           0  \n",
       "28    Newsletters (internal)  San Francisco           0  \n",
       "29    Newsletters (internal)   Philadelphia           0  \n",
       "..                       ...            ...         ...  \n",
       "832   TV / Radio Advertising          Miami           0  \n",
       "833  Search Engine Marketing          Miami           0  \n",
       "834   TV / Radio Advertising          Miami           0  \n",
       "835   TV / Radio Advertising          Miami           0  \n",
       "836   Newsletters (internal)          Miami           0  \n",
       "837   TV / Radio Advertising          Miami           0  \n",
       "838   TV / Radio Advertising          Miami           0  \n",
       "839   TV / Radio Advertising          Miami           0  \n",
       "840   TV / Radio Advertising          Miami           0  \n",
       "841   Newsletters (internal)          Miami           0  \n",
       "842   TV / Radio Advertising          Miami           0  \n",
       "843   TV / Radio Advertising          Miami           0  \n",
       "844   Newsletters (internal)          Miami           0  \n",
       "845   TV / Radio Advertising          Miami           0  \n",
       "846   Newsletters (internal)          Miami           0  \n",
       "847   Newsletters (internal)          Miami           0  \n",
       "848   Newsletters (internal)          Miami           0  \n",
       "849   Newsletters (internal)          Miami           0  \n",
       "850   TV / Radio Advertising          Miami           0  \n",
       "851   TV / Radio Advertising          Miami           0  \n",
       "852   Newsletters (internal)          Miami           0  \n",
       "853   TV / Radio Advertising          Miami           0  \n",
       "854   TV / Radio Advertising          Miami           0  \n",
       "855   TV / Radio Advertising          Miami           0  \n",
       "856   Newsletters (internal)          Miami           0  \n",
       "857   TV / Radio Advertising          Miami           0  \n",
       "858    Partnership Marketing          Miami           0  \n",
       "859   TV / Radio Advertising          Miami           0  \n",
       "860    Partnership Marketing          Miami           0  \n",
       "861    Partnership Marketing          Miami           0  \n",
       "\n",
       "[862 rows x 6 columns]"
      ]
     },
     "execution_count": 559,
     "metadata": {},
     "output_type": "execute_result"
    }
   ],
   "source": [
    "data['ny_by_news'] = data.apply(tag_ny_news,axis=1)\n",
    "data[['date_sign_up','customer_id','product_name','marketing_channel','City','ny_by_news']]"
   ]
  },
  {
   "attachments": {},
   "cell_type": "markdown",
   "metadata": {},
   "source": [
    "### 10. Create an additional column in tab Data that shows state from tab State without changing the State tab. Explain your process.\n",
    "#### Transformed State data into a dictionary and created State columb by mapping the dictionary back to City column of the original dataframe"
   ]
  },
  {
   "cell_type": "code",
   "execution_count": 560,
   "metadata": {
    "ExecuteTime": {
     "end_time": "2019-03-21T02:29:02.819407Z",
     "start_time": "2019-03-21T02:29:02.812941Z"
    }
   },
   "outputs": [],
   "source": [
    "state_dict=state.T.to_dict()\n",
    "state_dict=dict((v, k) for k, v in state_dict[0].iteritems())"
   ]
  },
  {
   "cell_type": "code",
   "execution_count": 561,
   "metadata": {
    "ExecuteTime": {
     "end_time": "2019-03-21T02:29:02.944725Z",
     "start_time": "2019-03-21T02:29:02.826153Z"
    }
   },
   "outputs": [
    {
     "data": {
      "text/html": [
       "<div>\n",
       "<style>\n",
       "    .dataframe thead tr:only-child th {\n",
       "        text-align: right;\n",
       "    }\n",
       "\n",
       "    .dataframe thead th {\n",
       "        text-align: left;\n",
       "    }\n",
       "\n",
       "    .dataframe tbody tr th {\n",
       "        vertical-align: top;\n",
       "    }\n",
       "</style>\n",
       "<table border=\"1\" class=\"dataframe\">\n",
       "  <thead>\n",
       "    <tr style=\"text-align: right;\">\n",
       "      <th></th>\n",
       "      <th>date_sign_up</th>\n",
       "      <th>customer_id</th>\n",
       "      <th>product_name</th>\n",
       "      <th>marketing_channel</th>\n",
       "      <th>City</th>\n",
       "      <th>State</th>\n",
       "    </tr>\n",
       "  </thead>\n",
       "  <tbody>\n",
       "    <tr>\n",
       "      <th>0</th>\n",
       "      <td>2015-04-15 09:55:21</td>\n",
       "      <td>220418</td>\n",
       "      <td>Classic - 3 meals per week for 4 people</td>\n",
       "      <td>Newsletters (internal)</td>\n",
       "      <td>Philadelphia</td>\n",
       "      <td>Pennsylvania</td>\n",
       "    </tr>\n",
       "    <tr>\n",
       "      <th>1</th>\n",
       "      <td>2015-04-15 09:55:22</td>\n",
       "      <td>220418</td>\n",
       "      <td>Classic - 3 meals per week for 4 people</td>\n",
       "      <td>Newsletters (internal)</td>\n",
       "      <td>Philadelphia</td>\n",
       "      <td>Pennsylvania</td>\n",
       "    </tr>\n",
       "    <tr>\n",
       "      <th>2</th>\n",
       "      <td>2015-04-15 09:55:22</td>\n",
       "      <td>220418</td>\n",
       "      <td>Classic - 3 meals per week for 2 people</td>\n",
       "      <td>Newsletters (internal)</td>\n",
       "      <td>Philadelphia</td>\n",
       "      <td>Pennsylvania</td>\n",
       "    </tr>\n",
       "    <tr>\n",
       "      <th>3</th>\n",
       "      <td>2015-04-15 18:12:20</td>\n",
       "      <td>221501</td>\n",
       "      <td>3 Meals (vegetarian) for 4 people</td>\n",
       "      <td>Newsletters (internal)</td>\n",
       "      <td>Philadelphia</td>\n",
       "      <td>Pennsylvania</td>\n",
       "    </tr>\n",
       "    <tr>\n",
       "      <th>4</th>\n",
       "      <td>2015-04-15 18:12:20</td>\n",
       "      <td>221501</td>\n",
       "      <td>Classic - 3 meals per week for 2 people</td>\n",
       "      <td>Newsletters (internal)</td>\n",
       "      <td>Philadelphia</td>\n",
       "      <td>Pennsylvania</td>\n",
       "    </tr>\n",
       "    <tr>\n",
       "      <th>5</th>\n",
       "      <td>2015-04-15 19:32:18</td>\n",
       "      <td>221710</td>\n",
       "      <td>3 Meals (vegetarian) for 2 people</td>\n",
       "      <td>Newsletters (internal)</td>\n",
       "      <td>San Diego</td>\n",
       "      <td>NaN</td>\n",
       "    </tr>\n",
       "    <tr>\n",
       "      <th>6</th>\n",
       "      <td>2015-04-15 19:32:18</td>\n",
       "      <td>221710</td>\n",
       "      <td>Classic - 3 meals per week for 4 people</td>\n",
       "      <td>Newsletters (internal)</td>\n",
       "      <td>San Diego</td>\n",
       "      <td>NaN</td>\n",
       "    </tr>\n",
       "    <tr>\n",
       "      <th>7</th>\n",
       "      <td>2015-04-19 19:56:20</td>\n",
       "      <td>226594</td>\n",
       "      <td>Classic - 3 meals per week for 2 people</td>\n",
       "      <td>Newsletters (internal)</td>\n",
       "      <td>Miami</td>\n",
       "      <td>Florida</td>\n",
       "    </tr>\n",
       "    <tr>\n",
       "      <th>8</th>\n",
       "      <td>2015-04-19 19:56:21</td>\n",
       "      <td>226594</td>\n",
       "      <td>Classic - 3 meals per week for 4 people</td>\n",
       "      <td>Newsletters (internal)</td>\n",
       "      <td>Miami</td>\n",
       "      <td>Florida</td>\n",
       "    </tr>\n",
       "    <tr>\n",
       "      <th>9</th>\n",
       "      <td>2015-04-17 13:11:19</td>\n",
       "      <td>71041</td>\n",
       "      <td>Classic - 3 meals per week for 2 people</td>\n",
       "      <td>Search Engine Marketing</td>\n",
       "      <td>San Diego</td>\n",
       "      <td>California</td>\n",
       "    </tr>\n",
       "    <tr>\n",
       "      <th>10</th>\n",
       "      <td>2015-04-14 11:32:19</td>\n",
       "      <td>103289</td>\n",
       "      <td>Classic - 3 meals per week for 2 people</td>\n",
       "      <td>Newsletters (internal)</td>\n",
       "      <td>Los Angeles</td>\n",
       "      <td>California.1</td>\n",
       "    </tr>\n",
       "    <tr>\n",
       "      <th>11</th>\n",
       "      <td>2015-04-14 09:53:20</td>\n",
       "      <td>107746</td>\n",
       "      <td>Classic - 3 meals per week for 2 people</td>\n",
       "      <td>Newsletters (internal)</td>\n",
       "      <td>Los Angeles</td>\n",
       "      <td>California.1</td>\n",
       "    </tr>\n",
       "    <tr>\n",
       "      <th>12</th>\n",
       "      <td>2015-04-14 16:08:18</td>\n",
       "      <td>157441</td>\n",
       "      <td>Classic - 3 meals per week for 4 people</td>\n",
       "      <td>Newsletters (internal)</td>\n",
       "      <td>San Francisco</td>\n",
       "      <td>California.2</td>\n",
       "    </tr>\n",
       "    <tr>\n",
       "      <th>13</th>\n",
       "      <td>2015-04-18 08:04:20</td>\n",
       "      <td>158646</td>\n",
       "      <td>Classic - 3 meals per week for 2 people</td>\n",
       "      <td>Newsletters (internal)</td>\n",
       "      <td>San Diego</td>\n",
       "      <td>California</td>\n",
       "    </tr>\n",
       "    <tr>\n",
       "      <th>14</th>\n",
       "      <td>2015-04-18 15:41:19</td>\n",
       "      <td>178843</td>\n",
       "      <td>3 Meals (vegetarian) for 2 people</td>\n",
       "      <td>TV / Radio Advertising</td>\n",
       "      <td>Miami</td>\n",
       "      <td>Florida</td>\n",
       "    </tr>\n",
       "    <tr>\n",
       "      <th>15</th>\n",
       "      <td>2015-04-15 09:45:18</td>\n",
       "      <td>179297</td>\n",
       "      <td>Classic - 3 meals per week for 2 people</td>\n",
       "      <td>Newsletters (internal)</td>\n",
       "      <td>Philadelphia</td>\n",
       "      <td>Pennsylvania</td>\n",
       "    </tr>\n",
       "    <tr>\n",
       "      <th>16</th>\n",
       "      <td>2015-04-15 08:21:25</td>\n",
       "      <td>182439</td>\n",
       "      <td>3 Meals (vegetarian) for 2 people</td>\n",
       "      <td>Newsletters (internal)</td>\n",
       "      <td>San Francisco</td>\n",
       "      <td>California.2</td>\n",
       "    </tr>\n",
       "    <tr>\n",
       "      <th>17</th>\n",
       "      <td>2015-04-17 06:57:18</td>\n",
       "      <td>186180</td>\n",
       "      <td>Classic - 3 meals per week for 2 people</td>\n",
       "      <td>Partnership Marketing</td>\n",
       "      <td>San Diego</td>\n",
       "      <td>California</td>\n",
       "    </tr>\n",
       "    <tr>\n",
       "      <th>18</th>\n",
       "      <td>2015-04-19 20:39:19</td>\n",
       "      <td>190396</td>\n",
       "      <td>Classic - 3 meals per week for 2 people</td>\n",
       "      <td>TV / Radio Advertising</td>\n",
       "      <td>Miami</td>\n",
       "      <td>Florida</td>\n",
       "    </tr>\n",
       "    <tr>\n",
       "      <th>19</th>\n",
       "      <td>2015-04-14 10:26:24</td>\n",
       "      <td>194229</td>\n",
       "      <td>Classic - 3 meals per week for 2 people</td>\n",
       "      <td>Search Engine Marketing</td>\n",
       "      <td>Los Angeles</td>\n",
       "      <td>California.1</td>\n",
       "    </tr>\n",
       "    <tr>\n",
       "      <th>20</th>\n",
       "      <td>2015-04-13 20:17:18</td>\n",
       "      <td>194353</td>\n",
       "      <td>Classic - 3 meals per week for 2 people</td>\n",
       "      <td>Search Engine Marketing</td>\n",
       "      <td>Washington</td>\n",
       "      <td>Washington</td>\n",
       "    </tr>\n",
       "    <tr>\n",
       "      <th>21</th>\n",
       "      <td>2015-04-15 14:43:20</td>\n",
       "      <td>200286</td>\n",
       "      <td>Classic - 3 meals per week for 2 people</td>\n",
       "      <td>Search Engine Marketing</td>\n",
       "      <td>Philadelphia</td>\n",
       "      <td>Pennsylvania</td>\n",
       "    </tr>\n",
       "    <tr>\n",
       "      <th>22</th>\n",
       "      <td>2015-04-16 07:35:22</td>\n",
       "      <td>201307</td>\n",
       "      <td>Classic - 3 meals per week for 2 people</td>\n",
       "      <td>TV / Radio Advertising</td>\n",
       "      <td>1San Diego</td>\n",
       "      <td>NaN</td>\n",
       "    </tr>\n",
       "    <tr>\n",
       "      <th>23</th>\n",
       "      <td>2015-04-15 06:54:19</td>\n",
       "      <td>203319</td>\n",
       "      <td>Classic - 3 meals per week for 2 people</td>\n",
       "      <td>Newsletters (internal)</td>\n",
       "      <td>San Francisco</td>\n",
       "      <td>California.2</td>\n",
       "    </tr>\n",
       "    <tr>\n",
       "      <th>24</th>\n",
       "      <td>2015-04-14 08:35:20</td>\n",
       "      <td>205233</td>\n",
       "      <td>Classic - 3 meals per week for 2 people</td>\n",
       "      <td>TV / Radio Advertising</td>\n",
       "      <td>Los Angeles</td>\n",
       "      <td>California.1</td>\n",
       "    </tr>\n",
       "    <tr>\n",
       "      <th>25</th>\n",
       "      <td>2015-04-13 12:08:19</td>\n",
       "      <td>205322</td>\n",
       "      <td>Classic - 3 meals per week for 2 people</td>\n",
       "      <td>Newsletters (internal)</td>\n",
       "      <td>Chicago</td>\n",
       "      <td>Illinois</td>\n",
       "    </tr>\n",
       "    <tr>\n",
       "      <th>26</th>\n",
       "      <td>2015-04-16 05:04:21</td>\n",
       "      <td>205611</td>\n",
       "      <td>Classic - 3 meals per week for 2 people</td>\n",
       "      <td>TV / Radio Advertising</td>\n",
       "      <td>San Diego</td>\n",
       "      <td>California</td>\n",
       "    </tr>\n",
       "    <tr>\n",
       "      <th>27</th>\n",
       "      <td>2015-04-15 12:17:18</td>\n",
       "      <td>208066</td>\n",
       "      <td>3 Meals (vegetarian) for 4 people</td>\n",
       "      <td>Newsletters (internal)</td>\n",
       "      <td>Philadelphia</td>\n",
       "      <td>Pennsylvania</td>\n",
       "    </tr>\n",
       "    <tr>\n",
       "      <th>28</th>\n",
       "      <td>2015-04-14 17:42:19</td>\n",
       "      <td>208079</td>\n",
       "      <td>Classic - 3 meals per week for 2 people</td>\n",
       "      <td>Newsletters (internal)</td>\n",
       "      <td>San Francisco</td>\n",
       "      <td>California.2</td>\n",
       "    </tr>\n",
       "    <tr>\n",
       "      <th>29</th>\n",
       "      <td>2015-04-15 09:58:19</td>\n",
       "      <td>209055</td>\n",
       "      <td>Classic - 3 meals per week for 2 people</td>\n",
       "      <td>Newsletters (internal)</td>\n",
       "      <td>Philadelphia</td>\n",
       "      <td>Pennsylvania</td>\n",
       "    </tr>\n",
       "    <tr>\n",
       "      <th>...</th>\n",
       "      <td>...</td>\n",
       "      <td>...</td>\n",
       "      <td>...</td>\n",
       "      <td>...</td>\n",
       "      <td>...</td>\n",
       "      <td>...</td>\n",
       "    </tr>\n",
       "    <tr>\n",
       "      <th>832</th>\n",
       "      <td>2015-04-19 17:31:19</td>\n",
       "      <td>226387</td>\n",
       "      <td>Classic - 3 meals per week for 2 people</td>\n",
       "      <td>TV / Radio Advertising</td>\n",
       "      <td>Miami</td>\n",
       "      <td>Florida</td>\n",
       "    </tr>\n",
       "    <tr>\n",
       "      <th>833</th>\n",
       "      <td>2015-04-19 17:40:21</td>\n",
       "      <td>226397</td>\n",
       "      <td>Classic - 3 meals per week for 4 people</td>\n",
       "      <td>Search Engine Marketing</td>\n",
       "      <td>Miami</td>\n",
       "      <td>Florida</td>\n",
       "    </tr>\n",
       "    <tr>\n",
       "      <th>834</th>\n",
       "      <td>2015-04-19 17:40:21</td>\n",
       "      <td>226400</td>\n",
       "      <td>Classic - 3 meals per week for 2 people</td>\n",
       "      <td>TV / Radio Advertising</td>\n",
       "      <td>Miami</td>\n",
       "      <td>Florida</td>\n",
       "    </tr>\n",
       "    <tr>\n",
       "      <th>835</th>\n",
       "      <td>2015-04-19 17:48:19</td>\n",
       "      <td>226408</td>\n",
       "      <td>Classic - 3 meals per week for 2 people</td>\n",
       "      <td>TV / Radio Advertising</td>\n",
       "      <td>Miami</td>\n",
       "      <td>Florida</td>\n",
       "    </tr>\n",
       "    <tr>\n",
       "      <th>836</th>\n",
       "      <td>2015-04-19 17:51:19</td>\n",
       "      <td>226414</td>\n",
       "      <td>Classic - 3 meals per week for 2 people</td>\n",
       "      <td>Newsletters (internal)</td>\n",
       "      <td>Miami</td>\n",
       "      <td>Florida</td>\n",
       "    </tr>\n",
       "    <tr>\n",
       "      <th>837</th>\n",
       "      <td>2015-04-19 18:13:19</td>\n",
       "      <td>226423</td>\n",
       "      <td>Classic - 3 meals per week for 2 people</td>\n",
       "      <td>TV / Radio Advertising</td>\n",
       "      <td>Miami</td>\n",
       "      <td>Florida</td>\n",
       "    </tr>\n",
       "    <tr>\n",
       "      <th>838</th>\n",
       "      <td>2015-04-19 18:14:20</td>\n",
       "      <td>226427</td>\n",
       "      <td>Classic - 3 meals per week for 2 people</td>\n",
       "      <td>TV / Radio Advertising</td>\n",
       "      <td>Miami</td>\n",
       "      <td>Florida</td>\n",
       "    </tr>\n",
       "    <tr>\n",
       "      <th>839</th>\n",
       "      <td>2015-04-19 17:57:19</td>\n",
       "      <td>226428</td>\n",
       "      <td>Classic - 3 meals per week for 2 people</td>\n",
       "      <td>TV / Radio Advertising</td>\n",
       "      <td>Miami</td>\n",
       "      <td>Florida</td>\n",
       "    </tr>\n",
       "    <tr>\n",
       "      <th>840</th>\n",
       "      <td>2015-04-19 18:04:18</td>\n",
       "      <td>226437</td>\n",
       "      <td>Classic - 3 meals per week for 2 people</td>\n",
       "      <td>TV / Radio Advertising</td>\n",
       "      <td>Miami</td>\n",
       "      <td>Florida</td>\n",
       "    </tr>\n",
       "    <tr>\n",
       "      <th>841</th>\n",
       "      <td>2015-04-19 18:08:20</td>\n",
       "      <td>226445</td>\n",
       "      <td>Classic - 3 meals per week for 2 people</td>\n",
       "      <td>Newsletters (internal)</td>\n",
       "      <td>Miami</td>\n",
       "      <td>Florida</td>\n",
       "    </tr>\n",
       "    <tr>\n",
       "      <th>842</th>\n",
       "      <td>2015-04-19 18:26:19</td>\n",
       "      <td>226475</td>\n",
       "      <td>Classic - 3 meals per week for 2 people</td>\n",
       "      <td>TV / Radio Advertising</td>\n",
       "      <td>Miami</td>\n",
       "      <td>Florida</td>\n",
       "    </tr>\n",
       "    <tr>\n",
       "      <th>843</th>\n",
       "      <td>2015-04-19 18:28:20</td>\n",
       "      <td>226477</td>\n",
       "      <td>3 Meals (vegetarian) for 2 people</td>\n",
       "      <td>TV / Radio Advertising</td>\n",
       "      <td>Miami</td>\n",
       "      <td>Florida</td>\n",
       "    </tr>\n",
       "    <tr>\n",
       "      <th>844</th>\n",
       "      <td>2015-04-19 18:33:19</td>\n",
       "      <td>226487</td>\n",
       "      <td>Classic - 3 meals per week for 2 people</td>\n",
       "      <td>Newsletters (internal)</td>\n",
       "      <td>Miami</td>\n",
       "      <td>Florida</td>\n",
       "    </tr>\n",
       "    <tr>\n",
       "      <th>845</th>\n",
       "      <td>2015-04-19 18:35:20</td>\n",
       "      <td>226489</td>\n",
       "      <td>Classic - 3 meals per week for 2 people</td>\n",
       "      <td>TV / Radio Advertising</td>\n",
       "      <td>Miami</td>\n",
       "      <td>Florida</td>\n",
       "    </tr>\n",
       "    <tr>\n",
       "      <th>846</th>\n",
       "      <td>2015-04-19 18:44:19</td>\n",
       "      <td>226505</td>\n",
       "      <td>Classic - 3 meals per week for 2 people</td>\n",
       "      <td>Newsletters (internal)</td>\n",
       "      <td>Miami</td>\n",
       "      <td>Florida</td>\n",
       "    </tr>\n",
       "    <tr>\n",
       "      <th>847</th>\n",
       "      <td>2015-04-19 18:45:21</td>\n",
       "      <td>226510</td>\n",
       "      <td>Classic - 3 meals per week for 2 people</td>\n",
       "      <td>Newsletters (internal)</td>\n",
       "      <td>Miami</td>\n",
       "      <td>Florida</td>\n",
       "    </tr>\n",
       "    <tr>\n",
       "      <th>848</th>\n",
       "      <td>2015-04-19 18:55:20</td>\n",
       "      <td>226525</td>\n",
       "      <td>Classic - 3 meals per week for 4 people</td>\n",
       "      <td>Newsletters (internal)</td>\n",
       "      <td>Miami</td>\n",
       "      <td>Florida</td>\n",
       "    </tr>\n",
       "    <tr>\n",
       "      <th>849</th>\n",
       "      <td>2015-04-19 19:07:20</td>\n",
       "      <td>226539</td>\n",
       "      <td>Classic - 3 meals per week for 2 people</td>\n",
       "      <td>Newsletters (internal)</td>\n",
       "      <td>Miami</td>\n",
       "      <td>Florida</td>\n",
       "    </tr>\n",
       "    <tr>\n",
       "      <th>850</th>\n",
       "      <td>2015-04-19 19:25:19</td>\n",
       "      <td>226544</td>\n",
       "      <td>Classic - 3 meals per week for 2 people</td>\n",
       "      <td>TV / Radio Advertising</td>\n",
       "      <td>Miami</td>\n",
       "      <td>Florida</td>\n",
       "    </tr>\n",
       "    <tr>\n",
       "      <th>851</th>\n",
       "      <td>2015-04-19 19:30:19</td>\n",
       "      <td>226562</td>\n",
       "      <td>Classic - 3 meals per week for 2 people</td>\n",
       "      <td>TV / Radio Advertising</td>\n",
       "      <td>Miami</td>\n",
       "      <td>Florida</td>\n",
       "    </tr>\n",
       "    <tr>\n",
       "      <th>852</th>\n",
       "      <td>2015-04-19 19:41:19</td>\n",
       "      <td>226575</td>\n",
       "      <td>Classic - 3 meals per week for 2 people</td>\n",
       "      <td>Newsletters (internal)</td>\n",
       "      <td>Miami</td>\n",
       "      <td>Florida</td>\n",
       "    </tr>\n",
       "    <tr>\n",
       "      <th>853</th>\n",
       "      <td>2015-04-19 20:04:18</td>\n",
       "      <td>226601</td>\n",
       "      <td>Classic - 3 meals per week for 2 people</td>\n",
       "      <td>TV / Radio Advertising</td>\n",
       "      <td>Miami</td>\n",
       "      <td>Florida</td>\n",
       "    </tr>\n",
       "    <tr>\n",
       "      <th>854</th>\n",
       "      <td>2015-04-19 20:48:18</td>\n",
       "      <td>226627</td>\n",
       "      <td>Classic - 3 meals per week for 4 people</td>\n",
       "      <td>TV / Radio Advertising</td>\n",
       "      <td>Miami</td>\n",
       "      <td>Florida</td>\n",
       "    </tr>\n",
       "    <tr>\n",
       "      <th>855</th>\n",
       "      <td>2015-04-19 20:54:19</td>\n",
       "      <td>226642</td>\n",
       "      <td>Classic - 3 meals per week for 2 people</td>\n",
       "      <td>TV / Radio Advertising</td>\n",
       "      <td>Miami</td>\n",
       "      <td>Florida</td>\n",
       "    </tr>\n",
       "    <tr>\n",
       "      <th>856</th>\n",
       "      <td>2015-04-19 21:40:19</td>\n",
       "      <td>226656</td>\n",
       "      <td>Classic - 3 meals per week for 2 people</td>\n",
       "      <td>Newsletters (internal)</td>\n",
       "      <td>Miami</td>\n",
       "      <td>Florida</td>\n",
       "    </tr>\n",
       "    <tr>\n",
       "      <th>857</th>\n",
       "      <td>2015-04-19 21:35:19</td>\n",
       "      <td>226658</td>\n",
       "      <td>Classic - 3 meals per week for 2 people</td>\n",
       "      <td>TV / Radio Advertising</td>\n",
       "      <td>Miami</td>\n",
       "      <td>Florida</td>\n",
       "    </tr>\n",
       "    <tr>\n",
       "      <th>858</th>\n",
       "      <td>2015-04-19 22:14:19</td>\n",
       "      <td>226671</td>\n",
       "      <td>Classic - 3 meals per week for 4 people</td>\n",
       "      <td>Partnership Marketing</td>\n",
       "      <td>Miami</td>\n",
       "      <td>Florida</td>\n",
       "    </tr>\n",
       "    <tr>\n",
       "      <th>859</th>\n",
       "      <td>2015-04-19 22:33:19</td>\n",
       "      <td>226678</td>\n",
       "      <td>Classic - 3 meals per week for 2 people</td>\n",
       "      <td>TV / Radio Advertising</td>\n",
       "      <td>Miami</td>\n",
       "      <td>Florida</td>\n",
       "    </tr>\n",
       "    <tr>\n",
       "      <th>860</th>\n",
       "      <td>2015-04-19 22:54:18</td>\n",
       "      <td>226683</td>\n",
       "      <td>Classic - 3 meals per week for 2 people</td>\n",
       "      <td>Partnership Marketing</td>\n",
       "      <td>Miami</td>\n",
       "      <td>Florida</td>\n",
       "    </tr>\n",
       "    <tr>\n",
       "      <th>861</th>\n",
       "      <td>2015-04-19 23:54:19</td>\n",
       "      <td>226697</td>\n",
       "      <td>Classic - 3 meals per week for 2 people</td>\n",
       "      <td>Partnership Marketing</td>\n",
       "      <td>Miami</td>\n",
       "      <td>Florida</td>\n",
       "    </tr>\n",
       "  </tbody>\n",
       "</table>\n",
       "<p>862 rows × 6 columns</p>\n",
       "</div>"
      ],
      "text/plain": [
       "           date_sign_up  customer_id                             product_name  \\\n",
       "0   2015-04-15 09:55:21       220418  Classic - 3 meals per week for 4 people   \n",
       "1   2015-04-15 09:55:22       220418  Classic - 3 meals per week for 4 people   \n",
       "2   2015-04-15 09:55:22       220418  Classic - 3 meals per week for 2 people   \n",
       "3   2015-04-15 18:12:20       221501        3 Meals (vegetarian) for 4 people   \n",
       "4   2015-04-15 18:12:20       221501  Classic - 3 meals per week for 2 people   \n",
       "5   2015-04-15 19:32:18       221710        3 Meals (vegetarian) for 2 people   \n",
       "6   2015-04-15 19:32:18       221710  Classic - 3 meals per week for 4 people   \n",
       "7   2015-04-19 19:56:20       226594  Classic - 3 meals per week for 2 people   \n",
       "8   2015-04-19 19:56:21       226594  Classic - 3 meals per week for 4 people   \n",
       "9   2015-04-17 13:11:19        71041  Classic - 3 meals per week for 2 people   \n",
       "10  2015-04-14 11:32:19       103289  Classic - 3 meals per week for 2 people   \n",
       "11  2015-04-14 09:53:20       107746  Classic - 3 meals per week for 2 people   \n",
       "12  2015-04-14 16:08:18       157441  Classic - 3 meals per week for 4 people   \n",
       "13  2015-04-18 08:04:20       158646  Classic - 3 meals per week for 2 people   \n",
       "14  2015-04-18 15:41:19       178843        3 Meals (vegetarian) for 2 people   \n",
       "15  2015-04-15 09:45:18       179297  Classic - 3 meals per week for 2 people   \n",
       "16  2015-04-15 08:21:25       182439        3 Meals (vegetarian) for 2 people   \n",
       "17  2015-04-17 06:57:18       186180  Classic - 3 meals per week for 2 people   \n",
       "18  2015-04-19 20:39:19       190396  Classic - 3 meals per week for 2 people   \n",
       "19  2015-04-14 10:26:24       194229  Classic - 3 meals per week for 2 people   \n",
       "20  2015-04-13 20:17:18       194353  Classic - 3 meals per week for 2 people   \n",
       "21  2015-04-15 14:43:20       200286  Classic - 3 meals per week for 2 people   \n",
       "22  2015-04-16 07:35:22       201307  Classic - 3 meals per week for 2 people   \n",
       "23  2015-04-15 06:54:19       203319  Classic - 3 meals per week for 2 people   \n",
       "24  2015-04-14 08:35:20       205233  Classic - 3 meals per week for 2 people   \n",
       "25  2015-04-13 12:08:19       205322  Classic - 3 meals per week for 2 people   \n",
       "26  2015-04-16 05:04:21       205611  Classic - 3 meals per week for 2 people   \n",
       "27  2015-04-15 12:17:18       208066        3 Meals (vegetarian) for 4 people   \n",
       "28  2015-04-14 17:42:19       208079  Classic - 3 meals per week for 2 people   \n",
       "29  2015-04-15 09:58:19       209055  Classic - 3 meals per week for 2 people   \n",
       "..                  ...          ...                                      ...   \n",
       "832 2015-04-19 17:31:19       226387  Classic - 3 meals per week for 2 people   \n",
       "833 2015-04-19 17:40:21       226397  Classic - 3 meals per week for 4 people   \n",
       "834 2015-04-19 17:40:21       226400  Classic - 3 meals per week for 2 people   \n",
       "835 2015-04-19 17:48:19       226408  Classic - 3 meals per week for 2 people   \n",
       "836 2015-04-19 17:51:19       226414  Classic - 3 meals per week for 2 people   \n",
       "837 2015-04-19 18:13:19       226423  Classic - 3 meals per week for 2 people   \n",
       "838 2015-04-19 18:14:20       226427  Classic - 3 meals per week for 2 people   \n",
       "839 2015-04-19 17:57:19       226428  Classic - 3 meals per week for 2 people   \n",
       "840 2015-04-19 18:04:18       226437  Classic - 3 meals per week for 2 people   \n",
       "841 2015-04-19 18:08:20       226445  Classic - 3 meals per week for 2 people   \n",
       "842 2015-04-19 18:26:19       226475  Classic - 3 meals per week for 2 people   \n",
       "843 2015-04-19 18:28:20       226477        3 Meals (vegetarian) for 2 people   \n",
       "844 2015-04-19 18:33:19       226487  Classic - 3 meals per week for 2 people   \n",
       "845 2015-04-19 18:35:20       226489  Classic - 3 meals per week for 2 people   \n",
       "846 2015-04-19 18:44:19       226505  Classic - 3 meals per week for 2 people   \n",
       "847 2015-04-19 18:45:21       226510  Classic - 3 meals per week for 2 people   \n",
       "848 2015-04-19 18:55:20       226525  Classic - 3 meals per week for 4 people   \n",
       "849 2015-04-19 19:07:20       226539  Classic - 3 meals per week for 2 people   \n",
       "850 2015-04-19 19:25:19       226544  Classic - 3 meals per week for 2 people   \n",
       "851 2015-04-19 19:30:19       226562  Classic - 3 meals per week for 2 people   \n",
       "852 2015-04-19 19:41:19       226575  Classic - 3 meals per week for 2 people   \n",
       "853 2015-04-19 20:04:18       226601  Classic - 3 meals per week for 2 people   \n",
       "854 2015-04-19 20:48:18       226627  Classic - 3 meals per week for 4 people   \n",
       "855 2015-04-19 20:54:19       226642  Classic - 3 meals per week for 2 people   \n",
       "856 2015-04-19 21:40:19       226656  Classic - 3 meals per week for 2 people   \n",
       "857 2015-04-19 21:35:19       226658  Classic - 3 meals per week for 2 people   \n",
       "858 2015-04-19 22:14:19       226671  Classic - 3 meals per week for 4 people   \n",
       "859 2015-04-19 22:33:19       226678  Classic - 3 meals per week for 2 people   \n",
       "860 2015-04-19 22:54:18       226683  Classic - 3 meals per week for 2 people   \n",
       "861 2015-04-19 23:54:19       226697  Classic - 3 meals per week for 2 people   \n",
       "\n",
       "           marketing_channel           City         State  \n",
       "0     Newsletters (internal)   Philadelphia  Pennsylvania  \n",
       "1     Newsletters (internal)   Philadelphia  Pennsylvania  \n",
       "2     Newsletters (internal)   Philadelphia  Pennsylvania  \n",
       "3     Newsletters (internal)   Philadelphia  Pennsylvania  \n",
       "4     Newsletters (internal)   Philadelphia  Pennsylvania  \n",
       "5     Newsletters (internal)      San Diego           NaN  \n",
       "6     Newsletters (internal)      San Diego           NaN  \n",
       "7     Newsletters (internal)          Miami       Florida  \n",
       "8     Newsletters (internal)          Miami       Florida  \n",
       "9    Search Engine Marketing     San Diego     California  \n",
       "10    Newsletters (internal)    Los Angeles  California.1  \n",
       "11    Newsletters (internal)    Los Angeles  California.1  \n",
       "12    Newsletters (internal)  San Francisco  California.2  \n",
       "13    Newsletters (internal)     San Diego     California  \n",
       "14    TV / Radio Advertising          Miami       Florida  \n",
       "15    Newsletters (internal)   Philadelphia  Pennsylvania  \n",
       "16    Newsletters (internal)  San Francisco  California.2  \n",
       "17     Partnership Marketing     San Diego     California  \n",
       "18    TV / Radio Advertising          Miami       Florida  \n",
       "19   Search Engine Marketing    Los Angeles  California.1  \n",
       "20   Search Engine Marketing     Washington    Washington  \n",
       "21   Search Engine Marketing   Philadelphia  Pennsylvania  \n",
       "22    TV / Radio Advertising     1San Diego           NaN  \n",
       "23    Newsletters (internal)  San Francisco  California.2  \n",
       "24    TV / Radio Advertising    Los Angeles  California.1  \n",
       "25    Newsletters (internal)        Chicago      Illinois  \n",
       "26    TV / Radio Advertising     San Diego     California  \n",
       "27    Newsletters (internal)   Philadelphia  Pennsylvania  \n",
       "28    Newsletters (internal)  San Francisco  California.2  \n",
       "29    Newsletters (internal)   Philadelphia  Pennsylvania  \n",
       "..                       ...            ...           ...  \n",
       "832   TV / Radio Advertising          Miami       Florida  \n",
       "833  Search Engine Marketing          Miami       Florida  \n",
       "834   TV / Radio Advertising          Miami       Florida  \n",
       "835   TV / Radio Advertising          Miami       Florida  \n",
       "836   Newsletters (internal)          Miami       Florida  \n",
       "837   TV / Radio Advertising          Miami       Florida  \n",
       "838   TV / Radio Advertising          Miami       Florida  \n",
       "839   TV / Radio Advertising          Miami       Florida  \n",
       "840   TV / Radio Advertising          Miami       Florida  \n",
       "841   Newsletters (internal)          Miami       Florida  \n",
       "842   TV / Radio Advertising          Miami       Florida  \n",
       "843   TV / Radio Advertising          Miami       Florida  \n",
       "844   Newsletters (internal)          Miami       Florida  \n",
       "845   TV / Radio Advertising          Miami       Florida  \n",
       "846   Newsletters (internal)          Miami       Florida  \n",
       "847   Newsletters (internal)          Miami       Florida  \n",
       "848   Newsletters (internal)          Miami       Florida  \n",
       "849   Newsletters (internal)          Miami       Florida  \n",
       "850   TV / Radio Advertising          Miami       Florida  \n",
       "851   TV / Radio Advertising          Miami       Florida  \n",
       "852   Newsletters (internal)          Miami       Florida  \n",
       "853   TV / Radio Advertising          Miami       Florida  \n",
       "854   TV / Radio Advertising          Miami       Florida  \n",
       "855   TV / Radio Advertising          Miami       Florida  \n",
       "856   Newsletters (internal)          Miami       Florida  \n",
       "857   TV / Radio Advertising          Miami       Florida  \n",
       "858    Partnership Marketing          Miami       Florida  \n",
       "859   TV / Radio Advertising          Miami       Florida  \n",
       "860    Partnership Marketing          Miami       Florida  \n",
       "861    Partnership Marketing          Miami       Florida  \n",
       "\n",
       "[862 rows x 6 columns]"
      ]
     },
     "execution_count": 561,
     "metadata": {},
     "output_type": "execute_result"
    }
   ],
   "source": [
    "data['State']=data['City'].map(state_dict)\n",
    "data[['date_sign_up','customer_id','product_name','marketing_channel','City','State']]"
   ]
  },
  {
   "attachments": {},
   "cell_type": "markdown",
   "metadata": {},
   "source": [
    "### 11. Prepare a table chart that shows sold food boxes per marketing channel in San Diego (Hint: Clean up city name \"San Diego\" in column E first, and explain how you got all San Diego variations into a format you can work with)\n",
    "#### Since all San Diego variations contain 'ego' I simply replace all city records where 'ego' appears with San Diego to standardize the the name throughout the entire dataset."
   ]
  },
  {
   "cell_type": "code",
   "execution_count": 562,
   "metadata": {
    "ExecuteTime": {
     "end_time": "2019-03-21T02:29:02.961299Z",
     "start_time": "2019-03-21T02:29:02.950789Z"
    }
   },
   "outputs": [
    {
     "data": {
      "text/plain": [
       "array([u'Philadelphia', u'San Diego', u'Miami', u'San Diego ',\n",
       "       u'Los Angeles', u'San Francisco', u'Washington', u'1San Diego',\n",
       "       u'Chicago', u'New York', u'SanDiego', u'San Dego'], dtype=object)"
      ]
     },
     "execution_count": 562,
     "metadata": {},
     "output_type": "execute_result"
    }
   ],
   "source": [
    "data['City'].unique()"
   ]
  },
  {
   "cell_type": "code",
   "execution_count": 563,
   "metadata": {
    "ExecuteTime": {
     "end_time": "2019-03-21T02:29:02.986217Z",
     "start_time": "2019-03-21T02:29:02.967276Z"
    }
   },
   "outputs": [],
   "source": [
    "data.loc[data['City'].str.find('ego')>0,'City']='San Diego'"
   ]
  },
  {
   "cell_type": "code",
   "execution_count": 564,
   "metadata": {
    "ExecuteTime": {
     "end_time": "2019-03-21T02:29:03.008478Z",
     "start_time": "2019-03-21T02:29:02.992959Z"
    }
   },
   "outputs": [],
   "source": [
    "sd_df=data[data['City']=='San Diego'].groupby(['marketing_channel'],as_index=False).agg({'product_name':'count'})\n",
    "sd_df.rename(columns={'product_name':'order_count'},inplace=True)"
   ]
  },
  {
   "cell_type": "code",
   "execution_count": 565,
   "metadata": {
    "ExecuteTime": {
     "end_time": "2019-03-21T02:29:03.782300Z",
     "start_time": "2019-03-21T02:29:03.014150Z"
    }
   },
   "outputs": [
    {
     "data": {
      "image/png": "[encoded data removed]",
      "text/plain": [
       "<matplotlib.figure.Figure at 0x108750dd0>"
      ]
     },
     "metadata": {},
     "output_type": "display_data"
    }
   ],
   "source": [
    "sd_plot = sd_df.plot(kind='bar', table=True, x=['marketing_channel'], y=[\n",
    "                         'order_count'], title='Orders by Channel in San Diego', legend=False)\n",
    "sd_plot.axes.get_xaxis().set_visible(False)\n",
    "table = sd_plot.tables[0]\n",
    "table.set_fontsize(15)\n",
    "table.scale(1, 2)"
   ]
  },
  {
   "cell_type": "markdown",
   "metadata": {},
   "source": [
    "### Bonus: Using the date column you previously created, write a single formula (and run it down multiple cells) that shows all the customer IDs that ordered a box on 04/14/2015 (Hint: there should be 221 records)\n",
    "\n",
    "#### Filter Dataframe on Date and display customer ids\n"
   ]
  },
  {
   "cell_type": "code",
   "execution_count": 566,
   "metadata": {
    "ExecuteTime": {
     "end_time": "2019-03-21T02:29:03.806928Z",
     "start_time": "2019-03-21T02:29:03.786437Z"
    }
   },
   "outputs": [
    {
     "data": {
      "text/plain": [
       "10     103289\n",
       "11     107746\n",
       "12     157441\n",
       "19     194229\n",
       "24     205233\n",
       "28     208079\n",
       "30     213420\n",
       "32     213711\n",
       "39     215332\n",
       "142    217365\n",
       "143    217380\n",
       "144    217455\n",
       "145    217460\n",
       "146    217477\n",
       "147    217539\n",
       "148    217566\n",
       "149    217572\n",
       "150    217631\n",
       "151    217652\n",
       "152    217658\n",
       "153    217690\n",
       "154    217717\n",
       "155    217730\n",
       "156    217735\n",
       "158    217749\n",
       "159    217758\n",
       "160    217776\n",
       "161    217778\n",
       "163    217787\n",
       "164    217788\n",
       "        ...  \n",
       "327    219481\n",
       "328    219487\n",
       "329    219494\n",
       "330    219512\n",
       "331    219517\n",
       "332    219520\n",
       "333    219522\n",
       "334    219530\n",
       "335    219545\n",
       "336    219546\n",
       "337    219549\n",
       "338    219568\n",
       "339    219579\n",
       "340    219590\n",
       "341    219598\n",
       "342    219600\n",
       "343    219649\n",
       "344    219655\n",
       "345    219662\n",
       "346    219667\n",
       "347    219688\n",
       "348    219700\n",
       "349    219703\n",
       "350    219705\n",
       "351    219716\n",
       "352    219726\n",
       "353    219729\n",
       "354    219731\n",
       "355    219732\n",
       "356    219736\n",
       "Name: customer_id, Length: 221, dtype: int64"
      ]
     },
     "execution_count": 566,
     "metadata": {},
     "output_type": "execute_result"
    }
   ],
   "source": [
    "data[data['date'] == datetime.date(2015, 4, 14)]['customer_id']"
   ]
  }
 ],
 "metadata": {
  "hide_input": false,
  "kernelspec": {
   "display_name": "Python 2",
   "language": "python",
   "name": "python2"
  },
  "language_info": {
   "codemirror_mode": {
    "name": "ipython",
    "version": 2
   },
   "file_extension": ".py",
   "mimetype": "text/x-python",
   "name": "python",
   "nbconvert_exporter": "python",
   "pygments_lexer": "ipython2",
   "version": "2.7.10"
  }
 },
 "nbformat": 4,
 "nbformat_minor": 2
}
